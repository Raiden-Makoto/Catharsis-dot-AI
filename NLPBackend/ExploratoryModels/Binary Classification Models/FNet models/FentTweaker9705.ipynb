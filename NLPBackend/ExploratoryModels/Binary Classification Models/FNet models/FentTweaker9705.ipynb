{
  "metadata": {
    "kernelspec": {
      "display_name": "Python 3",
      "name": "python3"
    },
    "language_info": {
      "name": "python",
      "version": "3.10.12",
      "mimetype": "text/x-python",
      "codemirror_mode": {
        "name": "ipython",
        "version": 3
      },
      "pygments_lexer": "ipython3",
      "nbconvert_exporter": "python",
      "file_extension": ".py"
    },
    "kaggle": {
      "accelerator": "nvidiaTeslaT4",
      "dataSources": [
        {
          "sourceId": 7706709,
          "sourceType": "datasetVersion",
          "datasetId": 4499487
        }
      ],
      "dockerImageVersionId": 30823,
      "isInternetEnabled": true,
      "language": "python",
      "sourceType": "notebook",
      "isGpuEnabled": true
    },
    "colab": {
      "provenance": [],
      "gpuType": "T4"
    },
    "accelerator": "GPU"
  },
  "nbformat_minor": 0,
  "nbformat": 4,
  "cells": [
    {
      "cell_type": "code",
      "source": [
        "import numpy as np # linear algebra\n",
        "import pandas as pd # data processing, CSV file I/O (e.g. pd.read_csv)"
      ],
      "metadata": {
        "_uuid": "8f2839f25d086af736a60e9eeb907d3b93b6e0e5",
        "_cell_guid": "b1076dfc-b9ad-4769-8c92-a6c4dae69d19",
        "trusted": true,
        "execution": {
          "iopub.status.busy": "2025-01-02T23:23:18.087732Z",
          "iopub.execute_input": "2025-01-02T23:23:18.088021Z",
          "iopub.status.idle": "2025-01-02T23:23:18.397318Z",
          "shell.execute_reply.started": "2025-01-02T23:23:18.087997Z",
          "shell.execute_reply": "2025-01-02T23:23:18.396424Z"
        },
        "id": "fJ_9V2iDXGcv"
      },
      "outputs": [],
      "execution_count": 1
    },
    {
      "cell_type": "code",
      "source": [
        "%pip -q install keras-hub"
      ],
      "metadata": {
        "id": "cqdL477xXegB",
        "outputId": "d913104d-a882-4e28-b871-905df9d12647",
        "colab": {
          "base_uri": "https://localhost:8080/"
        }
      },
      "execution_count": 2,
      "outputs": [
        {
          "output_type": "stream",
          "name": "stdout",
          "text": [
            "\u001b[2K   \u001b[90m━━━━━━━━━━━━━━━━━━━━━━━━━━━━━━━━━━━━━━━━\u001b[0m \u001b[32m691.2/691.2 kB\u001b[0m \u001b[31m9.1 MB/s\u001b[0m eta \u001b[36m0:00:00\u001b[0m\n",
            "\u001b[2K   \u001b[90m━━━━━━━━━━━━━━━━━━━━━━━━━━━━━━━━━━━━━━━━\u001b[0m \u001b[32m5.2/5.2 MB\u001b[0m \u001b[31m81.8 MB/s\u001b[0m eta \u001b[36m0:00:00\u001b[0m\n",
            "\u001b[2K   \u001b[90m━━━━━━━━━━━━━━━━━━━━━━━━━━━━━━━━━━━━━━━━\u001b[0m \u001b[32m615.3/615.3 MB\u001b[0m \u001b[31m863.6 kB/s\u001b[0m eta \u001b[36m0:00:00\u001b[0m\n",
            "\u001b[2K   \u001b[90m━━━━━━━━━━━━━━━━━━━━━━━━━━━━━━━━━━━━━━━━\u001b[0m \u001b[32m5.5/5.5 MB\u001b[0m \u001b[31m49.5 MB/s\u001b[0m eta \u001b[36m0:00:00\u001b[0m\n",
            "\u001b[?25h\u001b[31mERROR: pip's dependency resolver does not currently take into account all the packages that are installed. This behaviour is the source of the following dependency conflicts.\n",
            "tf-keras 2.17.0 requires tensorflow<2.18,>=2.17, but you have tensorflow 2.18.0 which is incompatible.\u001b[0m\u001b[31m\n",
            "\u001b[0m"
          ]
        }
      ]
    },
    {
      "cell_type": "code",
      "source": [
        "%pip -q install tensorflow keras --upgrade"
      ],
      "metadata": {
        "colab": {
          "base_uri": "https://localhost:8080/"
        },
        "id": "peuHroj7bj-8",
        "outputId": "8f530eb6-e893-406f-ac91-28bab9c6f586"
      },
      "execution_count": 3,
      "outputs": [
        {
          "output_type": "stream",
          "name": "stdout",
          "text": [
            "\u001b[?25l   \u001b[90m━━━━━━━━━━━━━━━━━━━━━━━━━━━━━━━━━━━━━━━━\u001b[0m \u001b[32m0.0/1.2 MB\u001b[0m \u001b[31m?\u001b[0m eta \u001b[36m-:--:--\u001b[0m\r\u001b[2K   \u001b[91m━━━━\u001b[0m\u001b[90m╺\u001b[0m\u001b[90m━━━━━━━━━━━━━━━━━━━━━━━━━━━━━━━━━━━\u001b[0m \u001b[32m0.1/1.2 MB\u001b[0m \u001b[31m4.0 MB/s\u001b[0m eta \u001b[36m0:00:01\u001b[0m\r\u001b[2K   \u001b[91m━━━━━━━━━━━━━━━━━━━━━━━━━━━━━━━━━━━━━\u001b[0m\u001b[91m╸\u001b[0m\u001b[90m━━\u001b[0m \u001b[32m1.2/1.2 MB\u001b[0m \u001b[31m15.7 MB/s\u001b[0m eta \u001b[36m0:00:01\u001b[0m\r\u001b[2K   \u001b[91m━━━━━━━━━━━━━━━━━━━━━━━━━━━━━━━━━━━━━━━\u001b[0m\u001b[91m╸\u001b[0m \u001b[32m1.2/1.2 MB\u001b[0m \u001b[31m15.9 MB/s\u001b[0m eta \u001b[36m0:00:01\u001b[0m\r\u001b[2K   \u001b[90m━━━━━━━━━━━━━━━━━━━━━━━━━━━━━━━━━━━━━━━━\u001b[0m \u001b[32m1.2/1.2 MB\u001b[0m \u001b[31m10.9 MB/s\u001b[0m eta \u001b[36m0:00:00\u001b[0m\n",
            "\u001b[?25h\u001b[31mERROR: pip's dependency resolver does not currently take into account all the packages that are installed. This behaviour is the source of the following dependency conflicts.\n",
            "tf-keras 2.17.0 requires tensorflow<2.18,>=2.17, but you have tensorflow 2.18.0 which is incompatible.\u001b[0m\u001b[31m\n",
            "\u001b[0m"
          ]
        }
      ]
    },
    {
      "cell_type": "code",
      "source": [
        "import tensorflow as tf\n",
        "import keras\n",
        "from keras import layers, optimizers"
      ],
      "metadata": {
        "trusted": true,
        "execution": {
          "iopub.status.busy": "2025-01-02T23:23:23.845305Z",
          "iopub.execute_input": "2025-01-02T23:23:23.84587Z",
          "iopub.status.idle": "2025-01-02T23:23:23.849645Z",
          "shell.execute_reply.started": "2025-01-02T23:23:23.845839Z",
          "shell.execute_reply": "2025-01-02T23:23:23.848727Z"
        },
        "id": "wSEUrg0mXGcw"
      },
      "outputs": [],
      "execution_count": 4
    },
    {
      "cell_type": "code",
      "source": [
        "tf.__version__"
      ],
      "metadata": {
        "colab": {
          "base_uri": "https://localhost:8080/",
          "height": 35
        },
        "id": "IPhU6-b7bZEC",
        "outputId": "b881f954-ec0d-4051-f554-6b0c9c0e8c61"
      },
      "execution_count": 5,
      "outputs": [
        {
          "output_type": "execute_result",
          "data": {
            "text/plain": [
              "'2.18.0'"
            ],
            "application/vnd.google.colaboratory.intrinsic+json": {
              "type": "string"
            }
          },
          "metadata": {},
          "execution_count": 5
        }
      ]
    },
    {
      "cell_type": "code",
      "source": [
        "keras.__version__"
      ],
      "metadata": {
        "colab": {
          "base_uri": "https://localhost:8080/",
          "height": 35
        },
        "id": "81EimVCebZ6n",
        "outputId": "f2cab859-0562-430d-89d4-a7b153e086ca"
      },
      "execution_count": 6,
      "outputs": [
        {
          "output_type": "execute_result",
          "data": {
            "text/plain": [
              "'3.7.0'"
            ],
            "application/vnd.google.colaboratory.intrinsic+json": {
              "type": "string"
            }
          },
          "metadata": {},
          "execution_count": 6
        }
      ]
    },
    {
      "cell_type": "code",
      "source": [
        "from keras_hub.tokenizers import WordPieceTokenizer, compute_word_piece_vocabulary"
      ],
      "metadata": {
        "trusted": true,
        "execution": {
          "iopub.status.busy": "2025-01-02T23:23:20.685516Z",
          "iopub.execute_input": "2025-01-02T23:23:20.68599Z",
          "iopub.status.idle": "2025-01-02T23:23:23.687635Z",
          "shell.execute_reply.started": "2025-01-02T23:23:20.685963Z",
          "shell.execute_reply": "2025-01-02T23:23:23.68689Z"
        },
        "id": "e7egwYewXGcw"
      },
      "outputs": [],
      "execution_count": 7
    },
    {
      "cell_type": "code",
      "source": [
        "df = pd.read_csv('SuicideWatch.csv')"
      ],
      "metadata": {
        "trusted": true,
        "execution": {
          "iopub.status.busy": "2025-01-02T23:23:27.508184Z",
          "iopub.execute_input": "2025-01-02T23:23:27.508489Z",
          "iopub.status.idle": "2025-01-02T23:23:27.689931Z",
          "shell.execute_reply.started": "2025-01-02T23:23:27.508464Z",
          "shell.execute_reply": "2025-01-02T23:23:27.689253Z"
        },
        "id": "F_rb_gYBXGcw"
      },
      "outputs": [],
      "execution_count": 33
    },
    {
      "cell_type": "code",
      "source": [
        "df['label'] = df['label'].str.replace('SuicideWatch', 'suicidal')\n",
        "df['label'] = df['label'].str.lower()"
      ],
      "metadata": {
        "trusted": true,
        "execution": {
          "iopub.status.busy": "2025-01-02T23:23:28.954726Z",
          "iopub.execute_input": "2025-01-02T23:23:28.955069Z",
          "iopub.status.idle": "2025-01-02T23:23:28.97327Z",
          "shell.execute_reply.started": "2025-01-02T23:23:28.955028Z",
          "shell.execute_reply": "2025-01-02T23:23:28.97231Z"
        },
        "id": "VAfxJlTJXGcw"
      },
      "outputs": [],
      "execution_count": 34
    },
    {
      "cell_type": "code",
      "source": [
        "binarized = []\n",
        "for label in df['label']:\n",
        "    if label == 'suicidal':\n",
        "        binarized.append(1)\n",
        "    else:\n",
        "        binarized.append(0)\n",
        "\n",
        "binarized = pd.Series(binarized, name='label')\n",
        "df = df.drop('label', axis=1)\n",
        "df = pd.concat([df, binarized], axis=1)"
      ],
      "metadata": {
        "id": "k_O7-Y8TyUyK"
      },
      "execution_count": 35,
      "outputs": []
    },
    {
      "cell_type": "code",
      "source": [
        "df.head()"
      ],
      "metadata": {
        "trusted": true,
        "execution": {
          "iopub.status.busy": "2025-01-02T23:23:30.286439Z",
          "iopub.execute_input": "2025-01-02T23:23:30.287075Z",
          "iopub.status.idle": "2025-01-02T23:23:30.294889Z",
          "shell.execute_reply.started": "2025-01-02T23:23:30.287041Z",
          "shell.execute_reply": "2025-01-02T23:23:30.294019Z"
        },
        "id": "GhDZ0VM6XGcw",
        "colab": {
          "base_uri": "https://localhost:8080/",
          "height": 206
        },
        "outputId": "95e6ea4a-a12e-469d-de07-d6b2506581ad"
      },
      "outputs": [
        {
          "output_type": "execute_result",
          "data": {
            "text/plain": [
              "                                                text  label\n",
              "0  I recently went through a breakup and she said...      0\n",
              "1  I do not know how to navigate these feelings, ...      0\n",
              "2  So I have been with my bf for 5 months , and h...      0\n",
              "3  I am so exhausted of this. Just when I think I...      1\n",
              "4  I have been severly bullied since i was 5 till...      0"
            ],
            "text/html": [
              "\n",
              "  <div id=\"df-7681b739-4fab-486b-82fd-8cc8e7a4e2cf\" class=\"colab-df-container\">\n",
              "    <div>\n",
              "<style scoped>\n",
              "    .dataframe tbody tr th:only-of-type {\n",
              "        vertical-align: middle;\n",
              "    }\n",
              "\n",
              "    .dataframe tbody tr th {\n",
              "        vertical-align: top;\n",
              "    }\n",
              "\n",
              "    .dataframe thead th {\n",
              "        text-align: right;\n",
              "    }\n",
              "</style>\n",
              "<table border=\"1\" class=\"dataframe\">\n",
              "  <thead>\n",
              "    <tr style=\"text-align: right;\">\n",
              "      <th></th>\n",
              "      <th>text</th>\n",
              "      <th>label</th>\n",
              "    </tr>\n",
              "  </thead>\n",
              "  <tbody>\n",
              "    <tr>\n",
              "      <th>0</th>\n",
              "      <td>I recently went through a breakup and she said...</td>\n",
              "      <td>0</td>\n",
              "    </tr>\n",
              "    <tr>\n",
              "      <th>1</th>\n",
              "      <td>I do not know how to navigate these feelings, ...</td>\n",
              "      <td>0</td>\n",
              "    </tr>\n",
              "    <tr>\n",
              "      <th>2</th>\n",
              "      <td>So I have been with my bf for 5 months , and h...</td>\n",
              "      <td>0</td>\n",
              "    </tr>\n",
              "    <tr>\n",
              "      <th>3</th>\n",
              "      <td>I am so exhausted of this. Just when I think I...</td>\n",
              "      <td>1</td>\n",
              "    </tr>\n",
              "    <tr>\n",
              "      <th>4</th>\n",
              "      <td>I have been severly bullied since i was 5 till...</td>\n",
              "      <td>0</td>\n",
              "    </tr>\n",
              "  </tbody>\n",
              "</table>\n",
              "</div>\n",
              "    <div class=\"colab-df-buttons\">\n",
              "\n",
              "  <div class=\"colab-df-container\">\n",
              "    <button class=\"colab-df-convert\" onclick=\"convertToInteractive('df-7681b739-4fab-486b-82fd-8cc8e7a4e2cf')\"\n",
              "            title=\"Convert this dataframe to an interactive table.\"\n",
              "            style=\"display:none;\">\n",
              "\n",
              "  <svg xmlns=\"http://www.w3.org/2000/svg\" height=\"24px\" viewBox=\"0 -960 960 960\">\n",
              "    <path d=\"M120-120v-720h720v720H120Zm60-500h600v-160H180v160Zm220 220h160v-160H400v160Zm0 220h160v-160H400v160ZM180-400h160v-160H180v160Zm440 0h160v-160H620v160ZM180-180h160v-160H180v160Zm440 0h160v-160H620v160Z\"/>\n",
              "  </svg>\n",
              "    </button>\n",
              "\n",
              "  <style>\n",
              "    .colab-df-container {\n",
              "      display:flex;\n",
              "      gap: 12px;\n",
              "    }\n",
              "\n",
              "    .colab-df-convert {\n",
              "      background-color: #E8F0FE;\n",
              "      border: none;\n",
              "      border-radius: 50%;\n",
              "      cursor: pointer;\n",
              "      display: none;\n",
              "      fill: #1967D2;\n",
              "      height: 32px;\n",
              "      padding: 0 0 0 0;\n",
              "      width: 32px;\n",
              "    }\n",
              "\n",
              "    .colab-df-convert:hover {\n",
              "      background-color: #E2EBFA;\n",
              "      box-shadow: 0px 1px 2px rgba(60, 64, 67, 0.3), 0px 1px 3px 1px rgba(60, 64, 67, 0.15);\n",
              "      fill: #174EA6;\n",
              "    }\n",
              "\n",
              "    .colab-df-buttons div {\n",
              "      margin-bottom: 4px;\n",
              "    }\n",
              "\n",
              "    [theme=dark] .colab-df-convert {\n",
              "      background-color: #3B4455;\n",
              "      fill: #D2E3FC;\n",
              "    }\n",
              "\n",
              "    [theme=dark] .colab-df-convert:hover {\n",
              "      background-color: #434B5C;\n",
              "      box-shadow: 0px 1px 3px 1px rgba(0, 0, 0, 0.15);\n",
              "      filter: drop-shadow(0px 1px 2px rgba(0, 0, 0, 0.3));\n",
              "      fill: #FFFFFF;\n",
              "    }\n",
              "  </style>\n",
              "\n",
              "    <script>\n",
              "      const buttonEl =\n",
              "        document.querySelector('#df-7681b739-4fab-486b-82fd-8cc8e7a4e2cf button.colab-df-convert');\n",
              "      buttonEl.style.display =\n",
              "        google.colab.kernel.accessAllowed ? 'block' : 'none';\n",
              "\n",
              "      async function convertToInteractive(key) {\n",
              "        const element = document.querySelector('#df-7681b739-4fab-486b-82fd-8cc8e7a4e2cf');\n",
              "        const dataTable =\n",
              "          await google.colab.kernel.invokeFunction('convertToInteractive',\n",
              "                                                    [key], {});\n",
              "        if (!dataTable) return;\n",
              "\n",
              "        const docLinkHtml = 'Like what you see? Visit the ' +\n",
              "          '<a target=\"_blank\" href=https://colab.research.google.com/notebooks/data_table.ipynb>data table notebook</a>'\n",
              "          + ' to learn more about interactive tables.';\n",
              "        element.innerHTML = '';\n",
              "        dataTable['output_type'] = 'display_data';\n",
              "        await google.colab.output.renderOutput(dataTable, element);\n",
              "        const docLink = document.createElement('div');\n",
              "        docLink.innerHTML = docLinkHtml;\n",
              "        element.appendChild(docLink);\n",
              "      }\n",
              "    </script>\n",
              "  </div>\n",
              "\n",
              "\n",
              "<div id=\"df-ca448788-4c48-4f05-8332-f306856f524f\">\n",
              "  <button class=\"colab-df-quickchart\" onclick=\"quickchart('df-ca448788-4c48-4f05-8332-f306856f524f')\"\n",
              "            title=\"Suggest charts\"\n",
              "            style=\"display:none;\">\n",
              "\n",
              "<svg xmlns=\"http://www.w3.org/2000/svg\" height=\"24px\"viewBox=\"0 0 24 24\"\n",
              "     width=\"24px\">\n",
              "    <g>\n",
              "        <path d=\"M19 3H5c-1.1 0-2 .9-2 2v14c0 1.1.9 2 2 2h14c1.1 0 2-.9 2-2V5c0-1.1-.9-2-2-2zM9 17H7v-7h2v7zm4 0h-2V7h2v10zm4 0h-2v-4h2v4z\"/>\n",
              "    </g>\n",
              "</svg>\n",
              "  </button>\n",
              "\n",
              "<style>\n",
              "  .colab-df-quickchart {\n",
              "      --bg-color: #E8F0FE;\n",
              "      --fill-color: #1967D2;\n",
              "      --hover-bg-color: #E2EBFA;\n",
              "      --hover-fill-color: #174EA6;\n",
              "      --disabled-fill-color: #AAA;\n",
              "      --disabled-bg-color: #DDD;\n",
              "  }\n",
              "\n",
              "  [theme=dark] .colab-df-quickchart {\n",
              "      --bg-color: #3B4455;\n",
              "      --fill-color: #D2E3FC;\n",
              "      --hover-bg-color: #434B5C;\n",
              "      --hover-fill-color: #FFFFFF;\n",
              "      --disabled-bg-color: #3B4455;\n",
              "      --disabled-fill-color: #666;\n",
              "  }\n",
              "\n",
              "  .colab-df-quickchart {\n",
              "    background-color: var(--bg-color);\n",
              "    border: none;\n",
              "    border-radius: 50%;\n",
              "    cursor: pointer;\n",
              "    display: none;\n",
              "    fill: var(--fill-color);\n",
              "    height: 32px;\n",
              "    padding: 0;\n",
              "    width: 32px;\n",
              "  }\n",
              "\n",
              "  .colab-df-quickchart:hover {\n",
              "    background-color: var(--hover-bg-color);\n",
              "    box-shadow: 0 1px 2px rgba(60, 64, 67, 0.3), 0 1px 3px 1px rgba(60, 64, 67, 0.15);\n",
              "    fill: var(--button-hover-fill-color);\n",
              "  }\n",
              "\n",
              "  .colab-df-quickchart-complete:disabled,\n",
              "  .colab-df-quickchart-complete:disabled:hover {\n",
              "    background-color: var(--disabled-bg-color);\n",
              "    fill: var(--disabled-fill-color);\n",
              "    box-shadow: none;\n",
              "  }\n",
              "\n",
              "  .colab-df-spinner {\n",
              "    border: 2px solid var(--fill-color);\n",
              "    border-color: transparent;\n",
              "    border-bottom-color: var(--fill-color);\n",
              "    animation:\n",
              "      spin 1s steps(1) infinite;\n",
              "  }\n",
              "\n",
              "  @keyframes spin {\n",
              "    0% {\n",
              "      border-color: transparent;\n",
              "      border-bottom-color: var(--fill-color);\n",
              "      border-left-color: var(--fill-color);\n",
              "    }\n",
              "    20% {\n",
              "      border-color: transparent;\n",
              "      border-left-color: var(--fill-color);\n",
              "      border-top-color: var(--fill-color);\n",
              "    }\n",
              "    30% {\n",
              "      border-color: transparent;\n",
              "      border-left-color: var(--fill-color);\n",
              "      border-top-color: var(--fill-color);\n",
              "      border-right-color: var(--fill-color);\n",
              "    }\n",
              "    40% {\n",
              "      border-color: transparent;\n",
              "      border-right-color: var(--fill-color);\n",
              "      border-top-color: var(--fill-color);\n",
              "    }\n",
              "    60% {\n",
              "      border-color: transparent;\n",
              "      border-right-color: var(--fill-color);\n",
              "    }\n",
              "    80% {\n",
              "      border-color: transparent;\n",
              "      border-right-color: var(--fill-color);\n",
              "      border-bottom-color: var(--fill-color);\n",
              "    }\n",
              "    90% {\n",
              "      border-color: transparent;\n",
              "      border-bottom-color: var(--fill-color);\n",
              "    }\n",
              "  }\n",
              "</style>\n",
              "\n",
              "  <script>\n",
              "    async function quickchart(key) {\n",
              "      const quickchartButtonEl =\n",
              "        document.querySelector('#' + key + ' button');\n",
              "      quickchartButtonEl.disabled = true;  // To prevent multiple clicks.\n",
              "      quickchartButtonEl.classList.add('colab-df-spinner');\n",
              "      try {\n",
              "        const charts = await google.colab.kernel.invokeFunction(\n",
              "            'suggestCharts', [key], {});\n",
              "      } catch (error) {\n",
              "        console.error('Error during call to suggestCharts:', error);\n",
              "      }\n",
              "      quickchartButtonEl.classList.remove('colab-df-spinner');\n",
              "      quickchartButtonEl.classList.add('colab-df-quickchart-complete');\n",
              "    }\n",
              "    (() => {\n",
              "      let quickchartButtonEl =\n",
              "        document.querySelector('#df-ca448788-4c48-4f05-8332-f306856f524f button');\n",
              "      quickchartButtonEl.style.display =\n",
              "        google.colab.kernel.accessAllowed ? 'block' : 'none';\n",
              "    })();\n",
              "  </script>\n",
              "</div>\n",
              "\n",
              "    </div>\n",
              "  </div>\n"
            ],
            "application/vnd.google.colaboratory.intrinsic+json": {
              "type": "dataframe",
              "variable_name": "df",
              "summary": "{\n  \"name\": \"df\",\n  \"rows\": 20364,\n  \"fields\": [\n    {\n      \"column\": \"text\",\n      \"properties\": {\n        \"dtype\": \"string\",\n        \"num_unique_values\": 20339,\n        \"samples\": [\n          \"I feel so guilty for what I have done. Its feeling you get where you have a realization and you just cannot speak about it. Your body freezes and you feel choked. From guilt. I have these thoughts of wanting to die because of this feeling of guilt . I am such a sad person. I earns surrender and not be in pain anymore I feel guilty\",\n          \"that awkward moment when they ask you what you want to be when you grow up. kind of awkward LMAO\",\n          \"I do not even know why I am fucking writing this. The last few years I have had on/ depression (if you can call it that). But this feels the worst I have really been. I am numb inside like just flat lined, nothing. I have had cbt therapy, counselling sessions, anti depressants before and whole bunch of other crap that only works for a short time. I slowly realised that most of my life has been trauma or abuse from family, environment, education, health, friends, girlfriends, life. I recently realised that a day does not go by where I do not get a fucking flashback to the past to a bad situation and that I do not have any happy memories. Being back at home for the summer with my parents till I am back at university has definitely not helped. I feel like I have accomplished nothing with my life. 28 years old, no savings, no life, living with parents that have issues themselves. I know I am not in a good place right now but I do not care anymore, I have no fight left inside. I actually want to die.I have always helped people, fixed shit that needed to, been the fucking foundations and rock for other people in the past and think to myself what wasted effort. As selfish as it sounds, no one actually cares about me, no one wants me, no one gives a crap, and this is something I have realised time and time again. I am always alone, everything I do, I do it by myself. No one shows up to any birthdays or they cancel for the last 15 years so I do not bother and spend it by my self. I feel like I fall in the cracks of every aspect of life. I understand that I should be grateful for the things that I have, but Id give that all up and do anything to remember what true happiness feels like one last time. I Used to make an effort with my appearance, health and with myself. Since corona, I do not care about my appearance anymore, I am losing my hair, I am gaining weight. I have lost the desire to drink/ smoke socially. I have no faith or trust left in friends, family, teachers, basically most things, all they do is: disappoint, let down, pick on, bully, backstab or do something really dumbRecently I realised I have anxiety and have become and introvert. I have withdrawn from all social media and become a hermit. I do not even talk to anyone not even my sisters or step sisters. I do not know why I am writing this, I guess I have gone through so much crap in my life I am sick and tired of it all, sorry for sounding like a pathetic piece of garbage, but In all honesty I am not afraid of dying, at least Ill feel something. M28, dissociating, Empty, numb, just living to die\"\n        ],\n        \"semantic_type\": \"\",\n        \"description\": \"\"\n      }\n    },\n    {\n      \"column\": \"label\",\n      \"properties\": {\n        \"dtype\": \"number\",\n        \"std\": 0,\n        \"min\": 0,\n        \"max\": 1,\n        \"num_unique_values\": 2,\n        \"samples\": [\n          1,\n          0\n        ],\n        \"semantic_type\": \"\",\n        \"description\": \"\"\n      }\n    }\n  ]\n}"
            }
          },
          "metadata": {},
          "execution_count": 36
        }
      ],
      "execution_count": 36
    },
    {
      "cell_type": "code",
      "source": [
        "df.isna().any().any()"
      ],
      "metadata": {
        "trusted": true,
        "execution": {
          "iopub.status.busy": "2025-01-02T23:23:30.740961Z",
          "iopub.execute_input": "2025-01-02T23:23:30.741266Z",
          "iopub.status.idle": "2025-01-02T23:23:30.750485Z",
          "shell.execute_reply.started": "2025-01-02T23:23:30.741237Z",
          "shell.execute_reply": "2025-01-02T23:23:30.749647Z"
        },
        "id": "MDzfdXnfXGcw",
        "colab": {
          "base_uri": "https://localhost:8080/"
        },
        "outputId": "db514e5b-3400-41de-a07e-af77837ea0a2"
      },
      "outputs": [
        {
          "output_type": "execute_result",
          "data": {
            "text/plain": [
              "False"
            ]
          },
          "metadata": {},
          "execution_count": 37
        }
      ],
      "execution_count": 37
    },
    {
      "cell_type": "code",
      "source": [
        "from sklearn.model_selection import train_test_split"
      ],
      "metadata": {
        "trusted": true,
        "execution": {
          "iopub.status.busy": "2025-01-02T23:23:31.048309Z",
          "iopub.execute_input": "2025-01-02T23:23:31.048577Z",
          "iopub.status.idle": "2025-01-02T23:23:31.362025Z",
          "shell.execute_reply.started": "2025-01-02T23:23:31.048554Z",
          "shell.execute_reply": "2025-01-02T23:23:31.361005Z"
        },
        "id": "J2c2xyTIXGcx"
      },
      "outputs": [],
      "execution_count": 38
    },
    {
      "cell_type": "code",
      "source": [
        "train_df, other = train_test_split(\n",
        "    df,\n",
        "    test_size = 0.9,\n",
        "    random_state = 9700,\n",
        "    shuffle = True,\n",
        "    stratify = df['label'],\n",
        ")"
      ],
      "metadata": {
        "trusted": true,
        "execution": {
          "iopub.status.busy": "2025-01-02T23:23:33.524936Z",
          "iopub.execute_input": "2025-01-02T23:23:33.525492Z",
          "iopub.status.idle": "2025-01-02T23:23:33.552229Z",
          "shell.execute_reply.started": "2025-01-02T23:23:33.525463Z",
          "shell.execute_reply": "2025-01-02T23:23:33.551301Z"
        },
        "id": "qwX2CKhVXGcx"
      },
      "outputs": [],
      "execution_count": 39
    },
    {
      "cell_type": "code",
      "source": [
        "val_df, test_df = train_test_split(\n",
        "    other,\n",
        "    test_size = 0.5,\n",
        "    random_state = 9700,\n",
        "    shuffle = True,\n",
        "    stratify = other['label'],\n",
        ")"
      ],
      "metadata": {
        "trusted": true,
        "execution": {
          "iopub.status.busy": "2025-01-02T23:23:34.081174Z",
          "iopub.execute_input": "2025-01-02T23:23:34.081481Z",
          "iopub.status.idle": "2025-01-02T23:23:34.106052Z",
          "shell.execute_reply.started": "2025-01-02T23:23:34.08145Z",
          "shell.execute_reply": "2025-01-02T23:23:34.105184Z"
        },
        "id": "FRPqO5ahXGcx"
      },
      "outputs": [],
      "execution_count": 40
    },
    {
      "cell_type": "code",
      "source": [
        "\n",
        "train_dataset = tf.data.Dataset.from_tensor_slices(\n",
        "    (train_df['text'].values, train_df['label'].values)\n",
        ")"
      ],
      "metadata": {
        "trusted": true,
        "execution": {
          "iopub.status.busy": "2025-01-02T23:24:27.900391Z",
          "iopub.execute_input": "2025-01-02T23:24:27.900763Z",
          "iopub.status.idle": "2025-01-02T23:24:27.911713Z",
          "shell.execute_reply.started": "2025-01-02T23:24:27.90073Z",
          "shell.execute_reply": "2025-01-02T23:24:27.910844Z"
        },
        "id": "2K7Cenj5XGcx"
      },
      "outputs": [],
      "execution_count": 41
    },
    {
      "cell_type": "code",
      "source": [
        "val_dataset = tf.data.Dataset.from_tensor_slices(\n",
        "    (val_df['text'].values, val_df['label'].values)\n",
        ")"
      ],
      "metadata": {
        "trusted": true,
        "execution": {
          "iopub.status.busy": "2025-01-02T23:24:30.747559Z",
          "iopub.execute_input": "2025-01-02T23:24:30.747869Z",
          "iopub.status.idle": "2025-01-02T23:24:30.766751Z",
          "shell.execute_reply.started": "2025-01-02T23:24:30.747845Z",
          "shell.execute_reply": "2025-01-02T23:24:30.7658Z"
        },
        "id": "TSmTIBlIXGcx"
      },
      "outputs": [],
      "execution_count": 42
    },
    {
      "cell_type": "code",
      "source": [
        "test_dataset = tf.data.Dataset.from_tensor_slices(\n",
        "    (test_df['text'].values, test_df['label'].values)\n",
        ")"
      ],
      "metadata": {
        "trusted": true,
        "execution": {
          "iopub.status.busy": "2025-01-02T23:24:33.785881Z",
          "iopub.execute_input": "2025-01-02T23:24:33.786209Z",
          "iopub.status.idle": "2025-01-02T23:24:33.805278Z",
          "shell.execute_reply.started": "2025-01-02T23:24:33.786178Z",
          "shell.execute_reply": "2025-01-02T23:24:33.804627Z"
        },
        "id": "VacJW0DQXGcx"
      },
      "outputs": [],
      "execution_count": 43
    },
    {
      "cell_type": "code",
      "source": [
        "# convert the text to lowercase\n",
        "train_dataset = train_dataset.map(lambda text, label: (tf.strings.lower(text), label))\n",
        "val_dataset = val_dataset.map(lambda text, label: (tf.strings.lower(text), label))\n",
        "test_dataset = test_dataset.map(lambda text, label: (tf.strings.lower(text), label))"
      ],
      "metadata": {
        "trusted": true,
        "execution": {
          "iopub.status.busy": "2025-01-02T23:24:58.344638Z",
          "iopub.execute_input": "2025-01-02T23:24:58.344973Z",
          "iopub.status.idle": "2025-01-02T23:24:58.383273Z",
          "shell.execute_reply.started": "2025-01-02T23:24:58.344942Z",
          "shell.execute_reply": "2025-01-02T23:24:58.382604Z"
        },
        "id": "gEp_ywP4XGcx"
      },
      "outputs": [],
      "execution_count": 44
    },
    {
      "cell_type": "code",
      "source": [
        "BITCH_SIZE = 64\n",
        "auto = tf.data.AUTOTUNE"
      ],
      "metadata": {
        "trusted": true,
        "execution": {
          "iopub.status.busy": "2025-01-02T23:25:05.171304Z",
          "iopub.execute_input": "2025-01-02T23:25:05.171696Z",
          "iopub.status.idle": "2025-01-02T23:25:05.175637Z",
          "shell.execute_reply.started": "2025-01-02T23:25:05.171663Z",
          "shell.execute_reply": "2025-01-02T23:25:05.174792Z"
        },
        "id": "Vsp7xhcRXGcx"
      },
      "outputs": [],
      "execution_count": 45
    },
    {
      "cell_type": "code",
      "source": [
        "train_dataset = train_dataset.batch(BITCH_SIZE).prefetch(auto)\n",
        "val_dataset = val_dataset.batch(BITCH_SIZE).prefetch(auto)\n",
        "test_dataset = test_dataset.batch(BITCH_SIZE).prefetch(auto)"
      ],
      "metadata": {
        "trusted": true,
        "execution": {
          "iopub.status.busy": "2025-01-02T23:25:09.865777Z",
          "iopub.execute_input": "2025-01-02T23:25:09.866129Z",
          "iopub.status.idle": "2025-01-02T23:25:09.892616Z",
          "shell.execute_reply.started": "2025-01-02T23:25:09.866096Z",
          "shell.execute_reply": "2025-01-02T23:25:09.891874Z"
        },
        "id": "q5lGmnXIXGcx"
      },
      "outputs": [],
      "execution_count": 46
    },
    {
      "cell_type": "code",
      "source": [
        "for text_batch, label_batch in train_dataset.take(1):\n",
        "    for i in range(3):\n",
        "        print(f\"{text_batch.numpy()[i]}\\n{label_batch.numpy()[i]}\\n\")"
      ],
      "metadata": {
        "trusted": true,
        "execution": {
          "iopub.status.busy": "2025-01-02T23:25:51.518443Z",
          "iopub.execute_input": "2025-01-02T23:25:51.518836Z",
          "iopub.status.idle": "2025-01-02T23:25:51.555801Z",
          "shell.execute_reply.started": "2025-01-02T23:25:51.518805Z",
          "shell.execute_reply": "2025-01-02T23:25:51.555108Z"
        },
        "id": "apdfZiglXGcx",
        "colab": {
          "base_uri": "https://localhost:8080/"
        },
        "outputId": "18164de1-355b-4b84-f14b-d86a0a659657"
      },
      "outputs": [
        {
          "output_type": "stream",
          "name": "stdout",
          "text": [
            "b\"i am trying to get into mtg because my partner is into it and i want to do things that they like, but the game makes me so sad for some reason. like i bought a bulk box and i just got a bunch of common boring cards and i cannot stop crying over it?? i wanted really cool cards like my partner has and it is just all junky cards and i feel so let down.this caused a fight with my partner because i was being extremely negative. we have been having a lot of fights recently that are always caused by my negativity. it just gets really bad at night. i do not know. i am sick of crying and i have a doctor's appointment tomorrow and i might just not go. i feel too shitty to do anything. i have been crying over magic cards on and off all day\"\n",
            "0\n",
            "\n",
            "b'i live in a semi-tropical area where plants take over everything, but i feel like i have this horticultural curse that reflects on my life in general. i have tried to grow plants for years, even building wooden planters, but then once the plants sprout i leave them outside where they get destroyed by inevitable torrential rain. i just moved and have a dirt backyard that gets sun, so i hoed the dirt up and planted grass seed after reading how to do it, but even in this area i messed it up somehow. i also bought and planted some already grown peppers, but i know i will abandon them to being eaten by insects or just not ever eat what grows on them. the only things i have grown successfully are basil and hot peppers, but i just left them without eating them until i used them up. it is reflective of everything else i do in life, really. i just do not care enough to do anything i once was happy doing. i have cut off contact with all friends, completely fake my conversations, never play music, drink too much, do not exercise, and stopped taking medications and going to therapy a couple years ago since i realized i cannot even be honest with myself and was definitely not honest with my therapist. i feel like seeing grass grow will be something that helps me feel like i have not completely abandoned my will to live. i cannot even get grass to grow!'\n",
            "0\n",
            "\n",
            "b'i have been having really extreme days lately, is either i want to die and battle to not hurt myself or i feel totally numb. numb days i do not struggle to do everyday basic things such as brushing my teeth but even if i feel the energy to do my work for uni i sit there and do not know how to proceed. i know what i need to do but it is like i do not understand anything at the same time. if things do not work out the first time i try i cannot thing of another way or solution to do it. i ask my friend most of the times but the anwser is always so obvious that i start to feel embarrassed to ask and i am scared that i am giving her extra stress.what can i do to clear my mind and do my work? i do not even have intrusive thoughts, i actually i have nothing in mind but it does not feel clear either and i struggle to have a logical thinking to work. what can i do? advice for numb days'\n",
            "0\n",
            "\n"
          ]
        }
      ],
      "execution_count": 47
    },
    {
      "cell_type": "code",
      "source": [
        "#Calculate Vocabulary Size\n",
        "vocabulary = set()\n",
        "train_df['text'].str.lower().str.split().apply(vocabulary.update)\n",
        "vocabulary_size = len(vocabulary)\n",
        "print(vocabulary_size)"
      ],
      "metadata": {
        "trusted": true,
        "execution": {
          "iopub.status.busy": "2025-01-02T23:25:58.885505Z",
          "iopub.execute_input": "2025-01-02T23:25:58.885869Z",
          "iopub.status.idle": "2025-01-02T23:25:58.955218Z",
          "shell.execute_reply.started": "2025-01-02T23:25:58.885845Z",
          "shell.execute_reply": "2025-01-02T23:25:58.954179Z"
        },
        "id": "_hyUxuffXGcx",
        "colab": {
          "base_uri": "https://localhost:8080/"
        },
        "outputId": "74750771-4813-49ec-f50c-d6914009b084"
      },
      "outputs": [
        {
          "output_type": "stream",
          "name": "stdout",
          "text": [
            "20817\n"
          ]
        }
      ],
      "execution_count": 48
    },
    {
      "cell_type": "code",
      "source": [
        "reserved_tokens = [\"[PAD]\", \"[UNK]\"]"
      ],
      "metadata": {
        "trusted": true,
        "execution": {
          "iopub.status.busy": "2025-01-02T23:26:00.013068Z",
          "iopub.execute_input": "2025-01-02T23:26:00.013387Z",
          "iopub.status.idle": "2025-01-02T23:26:00.017299Z",
          "shell.execute_reply.started": "2025-01-02T23:26:00.01336Z",
          "shell.execute_reply": "2025-01-02T23:26:00.016319Z"
        },
        "id": "RMGDxZr1XGcx"
      },
      "outputs": [],
      "execution_count": 49
    },
    {
      "cell_type": "code",
      "source": [
        "def train_word_piece(ds, vocab_size, reserved_tokens):\n",
        "    word_piece_ds = ds.unbatch().map(lambda x, y: x)\n",
        "    vocab = compute_word_piece_vocabulary(\n",
        "        word_piece_ds.batch(1000).prefetch(2),\n",
        "        vocabulary_size=vocabulary_size,\n",
        "        reserved_tokens=reserved_tokens,\n",
        "    )\n",
        "    return vocab"
      ],
      "metadata": {
        "trusted": true,
        "execution": {
          "iopub.status.busy": "2025-01-02T23:26:00.535375Z",
          "iopub.execute_input": "2025-01-02T23:26:00.535714Z",
          "iopub.status.idle": "2025-01-02T23:26:00.539975Z",
          "shell.execute_reply.started": "2025-01-02T23:26:00.535682Z",
          "shell.execute_reply": "2025-01-02T23:26:00.539084Z"
        },
        "id": "HzpSyEuGXGcx"
      },
      "outputs": [],
      "execution_count": 50
    },
    {
      "cell_type": "code",
      "source": [
        "vocab = train_word_piece(train_dataset, vocabulary_size, reserved_tokens)"
      ],
      "metadata": {
        "trusted": true,
        "execution": {
          "iopub.status.busy": "2025-01-02T23:26:02.02873Z",
          "iopub.execute_input": "2025-01-02T23:26:02.029103Z",
          "iopub.status.idle": "2025-01-02T23:26:25.482003Z",
          "shell.execute_reply.started": "2025-01-02T23:26:02.029052Z",
          "shell.execute_reply": "2025-01-02T23:26:25.481249Z"
        },
        "id": "v3zL23VuXGcx"
      },
      "outputs": [],
      "execution_count": 51
    },
    {
      "cell_type": "code",
      "source": [
        "print(f'Tokens: {vocab[36:54]}')"
      ],
      "metadata": {
        "trusted": true,
        "execution": {
          "iopub.status.busy": "2025-01-02T23:27:50.447378Z",
          "iopub.execute_input": "2025-01-02T23:27:50.447763Z",
          "iopub.status.idle": "2025-01-02T23:27:50.452414Z",
          "shell.execute_reply.started": "2025-01-02T23:27:50.447731Z",
          "shell.execute_reply": "2025-01-02T23:27:50.451647Z"
        },
        "id": "5ohC67iUXGcx",
        "colab": {
          "base_uri": "https://localhost:8080/"
        },
        "outputId": "20d5b706-3252-4e87-82dd-340790cb1811"
      },
      "outputs": [
        {
          "output_type": "stream",
          "name": "stdout",
          "text": [
            "Tokens: ['_', '`', 'a', 'b', 'c', 'd', 'e', 'f', 'g', 'h', 'i', 'j', 'k', 'l', 'm', 'n', 'o', 'p']\n"
          ]
        }
      ],
      "execution_count": 52
    },
    {
      "cell_type": "code",
      "source": [
        "train_df['text'].apply(lambda x: len(x.split(\" \"))).describe()"
      ],
      "metadata": {
        "trusted": true,
        "execution": {
          "iopub.status.busy": "2025-01-02T23:27:51.975952Z",
          "iopub.execute_input": "2025-01-02T23:27:51.976243Z",
          "iopub.status.idle": "2025-01-02T23:27:52.000573Z",
          "shell.execute_reply.started": "2025-01-02T23:27:51.976218Z",
          "shell.execute_reply": "2025-01-02T23:27:51.999763Z"
        },
        "id": "zBg0qAvmXGcx",
        "colab": {
          "base_uri": "https://localhost:8080/",
          "height": 335
        },
        "outputId": "298bf158-b44f-4045-d86a-356b4ec9e701"
      },
      "outputs": [
        {
          "output_type": "execute_result",
          "data": {
            "text/plain": [
              "count    2036.000000\n",
              "mean      164.407171\n",
              "std       181.896090\n",
              "min         1.000000\n",
              "25%        53.000000\n",
              "50%       107.000000\n",
              "75%       210.250000\n",
              "max      2364.000000\n",
              "Name: text, dtype: float64"
            ],
            "text/html": [
              "<div>\n",
              "<style scoped>\n",
              "    .dataframe tbody tr th:only-of-type {\n",
              "        vertical-align: middle;\n",
              "    }\n",
              "\n",
              "    .dataframe tbody tr th {\n",
              "        vertical-align: top;\n",
              "    }\n",
              "\n",
              "    .dataframe thead th {\n",
              "        text-align: right;\n",
              "    }\n",
              "</style>\n",
              "<table border=\"1\" class=\"dataframe\">\n",
              "  <thead>\n",
              "    <tr style=\"text-align: right;\">\n",
              "      <th></th>\n",
              "      <th>text</th>\n",
              "    </tr>\n",
              "  </thead>\n",
              "  <tbody>\n",
              "    <tr>\n",
              "      <th>count</th>\n",
              "      <td>2036.000000</td>\n",
              "    </tr>\n",
              "    <tr>\n",
              "      <th>mean</th>\n",
              "      <td>164.407171</td>\n",
              "    </tr>\n",
              "    <tr>\n",
              "      <th>std</th>\n",
              "      <td>181.896090</td>\n",
              "    </tr>\n",
              "    <tr>\n",
              "      <th>min</th>\n",
              "      <td>1.000000</td>\n",
              "    </tr>\n",
              "    <tr>\n",
              "      <th>25%</th>\n",
              "      <td>53.000000</td>\n",
              "    </tr>\n",
              "    <tr>\n",
              "      <th>50%</th>\n",
              "      <td>107.000000</td>\n",
              "    </tr>\n",
              "    <tr>\n",
              "      <th>75%</th>\n",
              "      <td>210.250000</td>\n",
              "    </tr>\n",
              "    <tr>\n",
              "      <th>max</th>\n",
              "      <td>2364.000000</td>\n",
              "    </tr>\n",
              "  </tbody>\n",
              "</table>\n",
              "</div><br><label><b>dtype:</b> float64</label>"
            ]
          },
          "metadata": {},
          "execution_count": 53
        }
      ],
      "execution_count": 53
    },
    {
      "cell_type": "code",
      "source": [
        "MAX_SEQLEN = 256"
      ],
      "metadata": {
        "trusted": true,
        "execution": {
          "iopub.status.busy": "2025-01-02T23:27:54.646827Z",
          "iopub.execute_input": "2025-01-02T23:27:54.647156Z",
          "iopub.status.idle": "2025-01-02T23:27:54.651117Z",
          "shell.execute_reply.started": "2025-01-02T23:27:54.647127Z",
          "shell.execute_reply": "2025-01-02T23:27:54.650145Z"
        },
        "id": "Hx2cEgAtXGcx"
      },
      "outputs": [],
      "execution_count": 54
    },
    {
      "cell_type": "code",
      "source": [
        "tokenizer = WordPieceTokenizer(\n",
        "    vocabulary = vocab,\n",
        "    lowercase = False,\n",
        "    sequence_length = MAX_SEQLEN,\n",
        ")"
      ],
      "metadata": {
        "trusted": true,
        "execution": {
          "iopub.status.busy": "2025-01-02T23:28:12.908503Z",
          "iopub.execute_input": "2025-01-02T23:28:12.908876Z",
          "iopub.status.idle": "2025-01-02T23:28:12.937386Z",
          "shell.execute_reply.started": "2025-01-02T23:28:12.908849Z",
          "shell.execute_reply": "2025-01-02T23:28:12.936699Z"
        },
        "id": "Heaiko5fXGcx"
      },
      "outputs": [],
      "execution_count": 55
    },
    {
      "cell_type": "code",
      "source": [
        "input_sentence_ex = train_dataset.take(1).get_single_element()[0][0]\n",
        "input_tokens_ex = tokenizer(input_sentence_ex)\n",
        "\n",
        "print(\"Sentence: \", input_sentence_ex)\n",
        "print(\"Tokens: \", input_tokens_ex)\n",
        "print(\"Recovered text after detokenizing: \", tokenizer.detokenize(input_tokens_ex))"
      ],
      "metadata": {
        "trusted": true,
        "execution": {
          "iopub.status.busy": "2025-01-02T23:28:16.827296Z",
          "iopub.execute_input": "2025-01-02T23:28:16.827696Z",
          "iopub.status.idle": "2025-01-02T23:28:17.010482Z",
          "shell.execute_reply.started": "2025-01-02T23:28:16.827662Z",
          "shell.execute_reply": "2025-01-02T23:28:17.009601Z"
        },
        "id": "Hhpn0E5uXGcx",
        "colab": {
          "base_uri": "https://localhost:8080/"
        },
        "outputId": "6baa37f5-d94e-4617-cf14-afb81cb47411"
      },
      "outputs": [
        {
          "output_type": "stream",
          "name": "stdout",
          "text": [
            "Sentence:  tf.Tensor(b\"i am trying to get into mtg because my partner is into it and i want to do things that they like, but the game makes me so sad for some reason. like i bought a bulk box and i just got a bunch of common boring cards and i cannot stop crying over it?? i wanted really cool cards like my partner has and it is just all junky cards and i feel so let down.this caused a fight with my partner because i was being extremely negative. we have been having a lot of fights recently that are always caused by my negativity. it just gets really bad at night. i do not know. i am sick of crying and i have a doctor's appointment tomorrow and i might just not go. i feel too shitty to do anything. i have been crying over magic cards on and off all day\", shape=(), dtype=string)\n",
            "Tokens:  tf.Tensor(\n",
            "[  46   71  208   66  106  214   50  315  501  100   68  704   73  214\n",
            "   72   67   46   90   66   77  152   78  112   86   13   80   69 1332\n",
            "  274   76   84  291   82  155  299   15   86   46 1400   38   39 2076\n",
            "  456  486   39 1961   67   46   81  184   38 1127   74 2263  918 2659\n",
            "   67   46  102  249  453  189   72   30   30   46  290  123 1402 2659\n",
            "   86   68  704  151   67   72   73   81   94   47 2633  486  254 2659\n",
            "   67   46   89   84  316  273   15   83 1129   38  579   87   68  704\n",
            "  100   46   85  139  658  865   15  147   75  109  257   38  236   74\n",
            "  579   91  426   78  117  168 1129  179   68   51  297  501  663 1065\n",
            "   15   72   81  423  123  198  104  327   15   46   77   70   97   15\n",
            "   46   71  383   74  453   67   46   75   38  643    8   56 1048  699\n",
            "   67   46  382   81   70  138   15   46   89  162  540   66   77  157\n",
            "   15   46   75  109  453  189   50 2347 2659   93   67  221   94  141\n",
            "    0    0    0    0    0    0    0    0    0    0    0    0    0    0\n",
            "    0    0    0    0    0    0    0    0    0    0    0    0    0    0\n",
            "    0    0    0    0    0    0    0    0    0    0    0    0    0    0\n",
            "    0    0    0    0    0    0    0    0    0    0    0    0    0    0\n",
            "    0    0    0    0    0    0    0    0    0    0    0    0    0    0\n",
            "    0    0    0    0], shape=(256,), dtype=int32)\n",
            "Recovered text after detokenizing:  i am trying to get into mtg because my partner is into it and i want to do things that they like , but the game makes me so sad for some reason . like i bought a bulk box and i just got a bunch of common boring cards and i cannot stop crying over it ? ? i wanted really cool cards like my partner has and it is just all junky cards and i feel so let down . this caused a fight with my partner because i was being extremely negative . we have been having a lot of fights recently that are always caused by my negativity . it just gets really bad at night . i do not know . i am sick of crying and i have a doctor ' s appointment tomorrow and i might just not go . i feel too shitty to do anything . i have been crying over magic cards on and off all day [PAD] [PAD] [PAD] [PAD] [PAD] [PAD] [PAD] [PAD] [PAD] [PAD] [PAD] [PAD] [PAD] [PAD] [PAD] [PAD] [PAD] [PAD] [PAD] [PAD] [PAD] [PAD] [PAD] [PAD] [PAD] [PAD] [PAD] [PAD] [PAD] [PAD] [PAD] [PAD] [PAD] [PAD] [PAD] [PAD] [PAD] [PAD] [PAD] [PAD] [PAD] [PAD] [PAD] [PAD] [PAD] [PAD] [PAD] [PAD] [PAD] [PAD] [PAD] [PAD] [PAD] [PAD] [PAD] [PAD] [PAD] [PAD] [PAD] [PAD] [PAD] [PAD] [PAD] [PAD] [PAD] [PAD] [PAD] [PAD] [PAD] [PAD] [PAD] [PAD] [PAD] [PAD]\n"
          ]
        }
      ],
      "execution_count": 56
    },
    {
      "cell_type": "code",
      "source": [
        "def format_dataset(sentence, label):\n",
        "    sentence = tokenizer(sentence)\n",
        "    return ({\"input_ids\": sentence}, label)"
      ],
      "metadata": {
        "trusted": true,
        "execution": {
          "iopub.status.busy": "2025-01-02T23:28:24.408836Z",
          "iopub.execute_input": "2025-01-02T23:28:24.409302Z",
          "iopub.status.idle": "2025-01-02T23:28:24.41324Z",
          "shell.execute_reply.started": "2025-01-02T23:28:24.409257Z",
          "shell.execute_reply": "2025-01-02T23:28:24.412456Z"
        },
        "id": "Jsu8Fk-kXGcx"
      },
      "outputs": [],
      "execution_count": 57
    },
    {
      "cell_type": "code",
      "source": [
        "def make_dataset(dataset):\n",
        "    dataset = dataset.map(format_dataset, num_parallel_calls=tf.data.AUTOTUNE)\n",
        "    return dataset.shuffle(BITCH_SIZE * 8).prefetch(16).cache()"
      ],
      "metadata": {
        "trusted": true,
        "execution": {
          "iopub.status.busy": "2025-01-02T23:28:36.672168Z",
          "iopub.execute_input": "2025-01-02T23:28:36.672504Z",
          "iopub.status.idle": "2025-01-02T23:28:36.676578Z",
          "shell.execute_reply.started": "2025-01-02T23:28:36.672472Z",
          "shell.execute_reply": "2025-01-02T23:28:36.675597Z"
        },
        "id": "ZlAcVE88XGcx"
      },
      "outputs": [],
      "execution_count": 58
    },
    {
      "cell_type": "code",
      "source": [
        "train_dataset = make_dataset(train_dataset)\n",
        "val_dataset = make_dataset(val_dataset)\n",
        "test_dataset = make_dataset(test_dataset)"
      ],
      "metadata": {
        "trusted": true,
        "execution": {
          "iopub.status.busy": "2025-01-02T23:28:37.466279Z",
          "iopub.execute_input": "2025-01-02T23:28:37.466661Z",
          "iopub.status.idle": "2025-01-02T23:28:38.39166Z",
          "shell.execute_reply.started": "2025-01-02T23:28:37.466629Z",
          "shell.execute_reply": "2025-01-02T23:28:38.390722Z"
        },
        "id": "zZZ9c5wNXGcx"
      },
      "outputs": [],
      "execution_count": 59
    },
    {
      "cell_type": "code",
      "source": [
        "from keras_hub.layers import TokenAndPositionEmbedding, FNetEncoder"
      ],
      "metadata": {
        "trusted": true,
        "execution": {
          "iopub.status.busy": "2025-01-02T23:29:21.706103Z",
          "iopub.execute_input": "2025-01-02T23:29:21.70645Z",
          "iopub.status.idle": "2025-01-02T23:29:21.711623Z",
          "shell.execute_reply.started": "2025-01-02T23:29:21.706419Z",
          "shell.execute_reply": "2025-01-02T23:29:21.710707Z"
        },
        "id": "kGowKhETXGcy"
      },
      "outputs": [],
      "execution_count": 60
    },
    {
      "cell_type": "code",
      "source": [
        "EMBED_DIM = 128\n",
        "INTERMEDIATE_DIM = 512"
      ],
      "metadata": {
        "trusted": true,
        "execution": {
          "iopub.status.busy": "2025-01-02T23:29:28.578437Z",
          "iopub.execute_input": "2025-01-02T23:29:28.578839Z",
          "iopub.status.idle": "2025-01-02T23:29:28.582428Z",
          "shell.execute_reply.started": "2025-01-02T23:29:28.578809Z",
          "shell.execute_reply": "2025-01-02T23:29:28.581601Z"
        },
        "id": "-vzI8Ys2XGcy"
      },
      "outputs": [],
      "execution_count": 61
    },
    {
      "cell_type": "code",
      "source": [
        "input_ids = keras.Input(shape=(None,), dtype=\"int\", name=\"input_ids\")\n",
        "\n",
        "x = TokenAndPositionEmbedding(\n",
        "    vocabulary_size=vocabulary_size,\n",
        "    sequence_length=MAX_SEQLEN,\n",
        "    embedding_dim=EMBED_DIM,\n",
        "    mask_zero=False,\n",
        ")(input_ids)\n",
        "\n",
        "x = FNetEncoder(intermediate_dim=INTERMEDIATE_DIM)(inputs=x)\n",
        "x = FNetEncoder(intermediate_dim=INTERMEDIATE_DIM)(inputs=x)\n",
        "x = FNetEncoder(intermediate_dim=INTERMEDIATE_DIM)(inputs=x)\n",
        "\n",
        "\n",
        "x = keras.layers.GlobalAveragePooling1D()(x)\n",
        "x = keras.layers.Dropout(0.1)(x)\n",
        "outputs = keras.layers.Dense(1, activation=\"sigmoid\")(x)\n",
        "\n",
        "FentTweaker = keras.Model(input_ids, outputs, name=\"FentTweaker\")"
      ],
      "metadata": {
        "trusted": true,
        "execution": {
          "iopub.status.busy": "2025-01-02T23:29:39.740513Z",
          "iopub.execute_input": "2025-01-02T23:29:39.740891Z",
          "iopub.status.idle": "2025-01-02T23:29:40.033277Z",
          "shell.execute_reply.started": "2025-01-02T23:29:39.740862Z",
          "shell.execute_reply": "2025-01-02T23:29:40.032234Z"
        },
        "id": "8FV-s-OfXGcy"
      },
      "outputs": [],
      "execution_count": 62
    },
    {
      "cell_type": "code",
      "source": [
        "FentTweaker.summary()"
      ],
      "metadata": {
        "trusted": true,
        "execution": {
          "iopub.status.busy": "2025-01-02T23:29:52.501264Z",
          "iopub.execute_input": "2025-01-02T23:29:52.501619Z",
          "iopub.status.idle": "2025-01-02T23:29:52.521311Z",
          "shell.execute_reply.started": "2025-01-02T23:29:52.501585Z",
          "shell.execute_reply": "2025-01-02T23:29:52.520494Z"
        },
        "id": "HsiClp0nXGcy",
        "colab": {
          "base_uri": "https://localhost:8080/",
          "height": 430
        },
        "outputId": "4909b6a7-3c5f-42d2-891d-6e4ae98e566a"
      },
      "outputs": [
        {
          "output_type": "display_data",
          "data": {
            "text/plain": [
              "\u001b[1mModel: \"FentTweaker\"\u001b[0m\n"
            ],
            "text/html": [
              "<pre style=\"white-space:pre;overflow-x:auto;line-height:normal;font-family:Menlo,'DejaVu Sans Mono',consolas,'Courier New',monospace\"><span style=\"font-weight: bold\">Model: \"FentTweaker\"</span>\n",
              "</pre>\n"
            ]
          },
          "metadata": {}
        },
        {
          "output_type": "display_data",
          "data": {
            "text/plain": [
              "┏━━━━━━━━━━━━━━━━━━━━━━━━━━━━━━━━━━━━━━┳━━━━━━━━━━━━━━━━━━━━━━━━━━━━━┳━━━━━━━━━━━━━━━━━┓\n",
              "┃\u001b[1m \u001b[0m\u001b[1mLayer (type)                        \u001b[0m\u001b[1m \u001b[0m┃\u001b[1m \u001b[0m\u001b[1mOutput Shape               \u001b[0m\u001b[1m \u001b[0m┃\u001b[1m \u001b[0m\u001b[1m        Param #\u001b[0m\u001b[1m \u001b[0m┃\n",
              "┡━━━━━━━━━━━━━━━━━━━━━━━━━━━━━━━━━━━━━━╇━━━━━━━━━━━━━━━━━━━━━━━━━━━━━╇━━━━━━━━━━━━━━━━━┩\n",
              "│ input_ids (\u001b[38;5;33mInputLayer\u001b[0m)               │ (\u001b[38;5;45mNone\u001b[0m, \u001b[38;5;45mNone\u001b[0m)                │               \u001b[38;5;34m0\u001b[0m │\n",
              "├──────────────────────────────────────┼─────────────────────────────┼─────────────────┤\n",
              "│ token_and_position_embedding         │ (\u001b[38;5;45mNone\u001b[0m, \u001b[38;5;45mNone\u001b[0m, \u001b[38;5;34m128\u001b[0m)           │       \u001b[38;5;34m2,697,344\u001b[0m │\n",
              "│ (\u001b[38;5;33mTokenAndPositionEmbedding\u001b[0m)          │                             │                 │\n",
              "├──────────────────────────────────────┼─────────────────────────────┼─────────────────┤\n",
              "│ f_net_encoder (\u001b[38;5;33mFNetEncoder\u001b[0m)          │ (\u001b[38;5;45mNone\u001b[0m, \u001b[38;5;45mNone\u001b[0m, \u001b[38;5;34m128\u001b[0m)           │         \u001b[38;5;34m132,224\u001b[0m │\n",
              "├──────────────────────────────────────┼─────────────────────────────┼─────────────────┤\n",
              "│ f_net_encoder_1 (\u001b[38;5;33mFNetEncoder\u001b[0m)        │ (\u001b[38;5;45mNone\u001b[0m, \u001b[38;5;45mNone\u001b[0m, \u001b[38;5;34m128\u001b[0m)           │         \u001b[38;5;34m132,224\u001b[0m │\n",
              "├──────────────────────────────────────┼─────────────────────────────┼─────────────────┤\n",
              "│ f_net_encoder_2 (\u001b[38;5;33mFNetEncoder\u001b[0m)        │ (\u001b[38;5;45mNone\u001b[0m, \u001b[38;5;45mNone\u001b[0m, \u001b[38;5;34m128\u001b[0m)           │         \u001b[38;5;34m132,224\u001b[0m │\n",
              "├──────────────────────────────────────┼─────────────────────────────┼─────────────────┤\n",
              "│ global_average_pooling1d             │ (\u001b[38;5;45mNone\u001b[0m, \u001b[38;5;34m128\u001b[0m)                 │               \u001b[38;5;34m0\u001b[0m │\n",
              "│ (\u001b[38;5;33mGlobalAveragePooling1D\u001b[0m)             │                             │                 │\n",
              "├──────────────────────────────────────┼─────────────────────────────┼─────────────────┤\n",
              "│ dropout (\u001b[38;5;33mDropout\u001b[0m)                    │ (\u001b[38;5;45mNone\u001b[0m, \u001b[38;5;34m128\u001b[0m)                 │               \u001b[38;5;34m0\u001b[0m │\n",
              "├──────────────────────────────────────┼─────────────────────────────┼─────────────────┤\n",
              "│ dense (\u001b[38;5;33mDense\u001b[0m)                        │ (\u001b[38;5;45mNone\u001b[0m, \u001b[38;5;34m1\u001b[0m)                   │             \u001b[38;5;34m129\u001b[0m │\n",
              "└──────────────────────────────────────┴─────────────────────────────┴─────────────────┘\n"
            ],
            "text/html": [
              "<pre style=\"white-space:pre;overflow-x:auto;line-height:normal;font-family:Menlo,'DejaVu Sans Mono',consolas,'Courier New',monospace\">┏━━━━━━━━━━━━━━━━━━━━━━━━━━━━━━━━━━━━━━┳━━━━━━━━━━━━━━━━━━━━━━━━━━━━━┳━━━━━━━━━━━━━━━━━┓\n",
              "┃<span style=\"font-weight: bold\"> Layer (type)                         </span>┃<span style=\"font-weight: bold\"> Output Shape                </span>┃<span style=\"font-weight: bold\">         Param # </span>┃\n",
              "┡━━━━━━━━━━━━━━━━━━━━━━━━━━━━━━━━━━━━━━╇━━━━━━━━━━━━━━━━━━━━━━━━━━━━━╇━━━━━━━━━━━━━━━━━┩\n",
              "│ input_ids (<span style=\"color: #0087ff; text-decoration-color: #0087ff\">InputLayer</span>)               │ (<span style=\"color: #00d7ff; text-decoration-color: #00d7ff\">None</span>, <span style=\"color: #00d7ff; text-decoration-color: #00d7ff\">None</span>)                │               <span style=\"color: #00af00; text-decoration-color: #00af00\">0</span> │\n",
              "├──────────────────────────────────────┼─────────────────────────────┼─────────────────┤\n",
              "│ token_and_position_embedding         │ (<span style=\"color: #00d7ff; text-decoration-color: #00d7ff\">None</span>, <span style=\"color: #00d7ff; text-decoration-color: #00d7ff\">None</span>, <span style=\"color: #00af00; text-decoration-color: #00af00\">128</span>)           │       <span style=\"color: #00af00; text-decoration-color: #00af00\">2,697,344</span> │\n",
              "│ (<span style=\"color: #0087ff; text-decoration-color: #0087ff\">TokenAndPositionEmbedding</span>)          │                             │                 │\n",
              "├──────────────────────────────────────┼─────────────────────────────┼─────────────────┤\n",
              "│ f_net_encoder (<span style=\"color: #0087ff; text-decoration-color: #0087ff\">FNetEncoder</span>)          │ (<span style=\"color: #00d7ff; text-decoration-color: #00d7ff\">None</span>, <span style=\"color: #00d7ff; text-decoration-color: #00d7ff\">None</span>, <span style=\"color: #00af00; text-decoration-color: #00af00\">128</span>)           │         <span style=\"color: #00af00; text-decoration-color: #00af00\">132,224</span> │\n",
              "├──────────────────────────────────────┼─────────────────────────────┼─────────────────┤\n",
              "│ f_net_encoder_1 (<span style=\"color: #0087ff; text-decoration-color: #0087ff\">FNetEncoder</span>)        │ (<span style=\"color: #00d7ff; text-decoration-color: #00d7ff\">None</span>, <span style=\"color: #00d7ff; text-decoration-color: #00d7ff\">None</span>, <span style=\"color: #00af00; text-decoration-color: #00af00\">128</span>)           │         <span style=\"color: #00af00; text-decoration-color: #00af00\">132,224</span> │\n",
              "├──────────────────────────────────────┼─────────────────────────────┼─────────────────┤\n",
              "│ f_net_encoder_2 (<span style=\"color: #0087ff; text-decoration-color: #0087ff\">FNetEncoder</span>)        │ (<span style=\"color: #00d7ff; text-decoration-color: #00d7ff\">None</span>, <span style=\"color: #00d7ff; text-decoration-color: #00d7ff\">None</span>, <span style=\"color: #00af00; text-decoration-color: #00af00\">128</span>)           │         <span style=\"color: #00af00; text-decoration-color: #00af00\">132,224</span> │\n",
              "├──────────────────────────────────────┼─────────────────────────────┼─────────────────┤\n",
              "│ global_average_pooling1d             │ (<span style=\"color: #00d7ff; text-decoration-color: #00d7ff\">None</span>, <span style=\"color: #00af00; text-decoration-color: #00af00\">128</span>)                 │               <span style=\"color: #00af00; text-decoration-color: #00af00\">0</span> │\n",
              "│ (<span style=\"color: #0087ff; text-decoration-color: #0087ff\">GlobalAveragePooling1D</span>)             │                             │                 │\n",
              "├──────────────────────────────────────┼─────────────────────────────┼─────────────────┤\n",
              "│ dropout (<span style=\"color: #0087ff; text-decoration-color: #0087ff\">Dropout</span>)                    │ (<span style=\"color: #00d7ff; text-decoration-color: #00d7ff\">None</span>, <span style=\"color: #00af00; text-decoration-color: #00af00\">128</span>)                 │               <span style=\"color: #00af00; text-decoration-color: #00af00\">0</span> │\n",
              "├──────────────────────────────────────┼─────────────────────────────┼─────────────────┤\n",
              "│ dense (<span style=\"color: #0087ff; text-decoration-color: #0087ff\">Dense</span>)                        │ (<span style=\"color: #00d7ff; text-decoration-color: #00d7ff\">None</span>, <span style=\"color: #00af00; text-decoration-color: #00af00\">1</span>)                   │             <span style=\"color: #00af00; text-decoration-color: #00af00\">129</span> │\n",
              "└──────────────────────────────────────┴─────────────────────────────┴─────────────────┘\n",
              "</pre>\n"
            ]
          },
          "metadata": {}
        },
        {
          "output_type": "display_data",
          "data": {
            "text/plain": [
              "\u001b[1m Total params: \u001b[0m\u001b[38;5;34m3,094,145\u001b[0m (11.80 MB)\n"
            ],
            "text/html": [
              "<pre style=\"white-space:pre;overflow-x:auto;line-height:normal;font-family:Menlo,'DejaVu Sans Mono',consolas,'Courier New',monospace\"><span style=\"font-weight: bold\"> Total params: </span><span style=\"color: #00af00; text-decoration-color: #00af00\">3,094,145</span> (11.80 MB)\n",
              "</pre>\n"
            ]
          },
          "metadata": {}
        },
        {
          "output_type": "display_data",
          "data": {
            "text/plain": [
              "\u001b[1m Trainable params: \u001b[0m\u001b[38;5;34m3,094,145\u001b[0m (11.80 MB)\n"
            ],
            "text/html": [
              "<pre style=\"white-space:pre;overflow-x:auto;line-height:normal;font-family:Menlo,'DejaVu Sans Mono',consolas,'Courier New',monospace\"><span style=\"font-weight: bold\"> Trainable params: </span><span style=\"color: #00af00; text-decoration-color: #00af00\">3,094,145</span> (11.80 MB)\n",
              "</pre>\n"
            ]
          },
          "metadata": {}
        },
        {
          "output_type": "display_data",
          "data": {
            "text/plain": [
              "\u001b[1m Non-trainable params: \u001b[0m\u001b[38;5;34m0\u001b[0m (0.00 B)\n"
            ],
            "text/html": [
              "<pre style=\"white-space:pre;overflow-x:auto;line-height:normal;font-family:Menlo,'DejaVu Sans Mono',consolas,'Courier New',monospace\"><span style=\"font-weight: bold\"> Non-trainable params: </span><span style=\"color: #00af00; text-decoration-color: #00af00\">0</span> (0.00 B)\n",
              "</pre>\n"
            ]
          },
          "metadata": {}
        }
      ],
      "execution_count": 63
    },
    {
      "cell_type": "code",
      "source": [
        "FentTweaker.compile(\n",
        "    optimizer = optimizers.Adam(learning_rate=1e-3),\n",
        "    loss = \"binary_crossentropy\",\n",
        "    metrics = [\"accuracy\"]\n",
        ")"
      ],
      "metadata": {
        "trusted": true,
        "execution": {
          "iopub.status.busy": "2025-01-02T23:29:55.83714Z",
          "iopub.execute_input": "2025-01-02T23:29:55.837435Z",
          "iopub.status.idle": "2025-01-02T23:29:55.86239Z",
          "shell.execute_reply.started": "2025-01-02T23:29:55.837413Z",
          "shell.execute_reply": "2025-01-02T23:29:55.861604Z"
        },
        "id": "0rCZtFQnXGcy"
      },
      "outputs": [],
      "execution_count": 65
    },
    {
      "cell_type": "code",
      "source": [
        "history = FentTweaker.fit(train_dataset, epochs=10, validation_data=val_dataset)"
      ],
      "metadata": {
        "trusted": true,
        "execution": {
          "iopub.status.busy": "2025-01-02T23:30:04.82371Z",
          "iopub.execute_input": "2025-01-02T23:30:04.824074Z",
          "iopub.status.idle": "2025-01-02T23:30:09.867409Z",
          "shell.execute_reply.started": "2025-01-02T23:30:04.824042Z",
          "shell.execute_reply": "2025-01-02T23:30:09.865997Z"
        },
        "id": "mCCIPvxPXGcy",
        "colab": {
          "base_uri": "https://localhost:8080/"
        },
        "outputId": "4b2aa361-256c-495d-e332-c565215cb009"
      },
      "outputs": [
        {
          "output_type": "stream",
          "name": "stdout",
          "text": [
            "Epoch 1/10\n"
          ]
        },
        {
          "output_type": "stream",
          "name": "stderr",
          "text": [
            "/usr/local/lib/python3.10/dist-packages/keras/src/models/functional.py:238: UserWarning: The structure of `inputs` doesn't match the expected structure.\n",
            "Expected: input_ids\n",
            "Received: inputs=['Tensor(shape=(None, 256))']\n",
            "  warnings.warn(msg)\n"
          ]
        },
        {
          "output_type": "stream",
          "name": "stdout",
          "text": [
            "\u001b[1m32/32\u001b[0m \u001b[32m━━━━━━━━━━━━━━━━━━━━\u001b[0m\u001b[37m\u001b[0m \u001b[1m19s\u001b[0m 276ms/step - accuracy: 0.5229 - loss: 0.7177 - val_accuracy: 0.5031 - val_loss: 0.6900\n",
            "Epoch 2/10\n",
            "\u001b[1m32/32\u001b[0m \u001b[32m━━━━━━━━━━━━━━━━━━━━\u001b[0m\u001b[37m\u001b[0m \u001b[1m2s\u001b[0m 56ms/step - accuracy: 0.6075 - loss: 0.6710 - val_accuracy: 0.5734 - val_loss: 0.6765\n",
            "Epoch 3/10\n",
            "\u001b[1m32/32\u001b[0m \u001b[32m━━━━━━━━━━━━━━━━━━━━\u001b[0m\u001b[37m\u001b[0m \u001b[1m2s\u001b[0m 56ms/step - accuracy: 0.6231 - loss: 0.6543 - val_accuracy: 0.6187 - val_loss: 0.6542\n",
            "Epoch 4/10\n",
            "\u001b[1m32/32\u001b[0m \u001b[32m━━━━━━━━━━━━━━━━━━━━\u001b[0m\u001b[37m\u001b[0m \u001b[1m2s\u001b[0m 62ms/step - accuracy: 0.7238 - loss: 0.5717 - val_accuracy: 0.6173 - val_loss: 0.6678\n",
            "Epoch 5/10\n",
            "\u001b[1m32/32\u001b[0m \u001b[32m━━━━━━━━━━━━━━━━━━━━\u001b[0m\u001b[37m\u001b[0m \u001b[1m2s\u001b[0m 60ms/step - accuracy: 0.7922 - loss: 0.4418 - val_accuracy: 0.6096 - val_loss: 0.7472\n",
            "Epoch 6/10\n",
            "\u001b[1m32/32\u001b[0m \u001b[32m━━━━━━━━━━━━━━━━━━━━\u001b[0m\u001b[37m\u001b[0m \u001b[1m2s\u001b[0m 57ms/step - accuracy: 0.7994 - loss: 0.4059 - val_accuracy: 0.6521 - val_loss: 0.7193\n",
            "Epoch 7/10\n",
            "\u001b[1m32/32\u001b[0m \u001b[32m━━━━━━━━━━━━━━━━━━━━\u001b[0m\u001b[37m\u001b[0m \u001b[1m2s\u001b[0m 56ms/step - accuracy: 0.9406 - loss: 0.1860 - val_accuracy: 0.6147 - val_loss: 0.9664\n",
            "Epoch 8/10\n",
            "\u001b[1m32/32\u001b[0m \u001b[32m━━━━━━━━━━━━━━━━━━━━\u001b[0m\u001b[37m\u001b[0m \u001b[1m2s\u001b[0m 56ms/step - accuracy: 0.9674 - loss: 0.0903 - val_accuracy: 0.6423 - val_loss: 0.9965\n",
            "Epoch 9/10\n",
            "\u001b[1m32/32\u001b[0m \u001b[32m━━━━━━━━━━━━━━━━━━━━\u001b[0m\u001b[37m\u001b[0m \u001b[1m2s\u001b[0m 62ms/step - accuracy: 0.9978 - loss: 0.0182 - val_accuracy: 0.6377 - val_loss: 1.0681\n",
            "Epoch 10/10\n",
            "\u001b[1m32/32\u001b[0m \u001b[32m━━━━━━━━━━━━━━━━━━━━\u001b[0m\u001b[37m\u001b[0m \u001b[1m2s\u001b[0m 56ms/step - accuracy: 1.0000 - loss: 0.0049 - val_accuracy: 0.6376 - val_loss: 1.1635\n"
          ]
        }
      ],
      "execution_count": 66
    },
    {
      "cell_type": "code",
      "source": [
        "import matplotlib.pyplot as plt\n",
        "\n",
        "def plot_result(item):\n",
        "    plt.plot(history.history[item], label=item)\n",
        "    plt.plot(history.history[\"val_\" + item], label=\"val_\" + item)\n",
        "    plt.xlabel(\"Epochs\")\n",
        "    plt.ylabel(item)\n",
        "    plt.title(\"Train and Validation {} Over Epochs\".format(item), fontsize=14)\n",
        "    plt.legend()\n",
        "    plt.grid()\n",
        "    plt.show()\n",
        "\n",
        "\n",
        "plot_result(\"loss\")\n",
        "plot_result(\"accuracy\")"
      ],
      "metadata": {
        "trusted": true,
        "id": "kvJEG66CXGcy",
        "colab": {
          "base_uri": "https://localhost:8080/",
          "height": 929
        },
        "outputId": "069a2fc3-ad5d-4132-e0a1-d85c9e029653"
      },
      "outputs": [
        {
          "output_type": "display_data",
          "data": {
            "text/plain": [
              "<Figure size 640x480 with 1 Axes>"
            ],
            "image/png": "[encoded data removed]"
          },
          "metadata": {}
        },
        {
          "output_type": "display_data",
          "data": {
            "text/plain": [
              "<Figure size 640x480 with 1 Axes>"
            ],
            "image/png": "[encoded data removed]"
          },
          "metadata": {}
        }
      ],
      "execution_count": 68
    },
    {
      "cell_type": "code",
      "source": [
        "FentTweaker.evaluate(test_dataset, batch_size=BITCH_SIZE)"
      ],
      "metadata": {
        "colab": {
          "base_uri": "https://localhost:8080/"
        },
        "id": "g_ik0DLjzUz9",
        "outputId": "2789dadc-16d0-4d53-8104-7fa0bd13363d"
      },
      "execution_count": 69,
      "outputs": [
        {
          "output_type": "stream",
          "name": "stdout",
          "text": [
            "\u001b[1m144/144\u001b[0m \u001b[32m━━━━━━━━━━━━━━━━━━━━\u001b[0m\u001b[37m\u001b[0m \u001b[1m3s\u001b[0m 9ms/step - accuracy: 0.6349 - loss: 1.1496\n"
          ]
        },
        {
          "output_type": "execute_result",
          "data": {
            "text/plain": [
              "[1.1215264797210693, 0.6442601680755615]"
            ]
          },
          "metadata": {},
          "execution_count": 69
        }
      ]
    },
    {
      "cell_type": "code",
      "source": [],
      "metadata": {
        "id": "spzW8KipzqZJ"
      },
      "execution_count": null,
      "outputs": []
    }
  ]
}
